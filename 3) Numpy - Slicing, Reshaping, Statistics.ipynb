{
 "cells": [
  {
   "cell_type": "code",
   "execution_count": 49,
   "id": "4fdc216b",
   "metadata": {},
   "outputs": [],
   "source": [
    "import numpy as np"
   ]
  },
  {
   "cell_type": "markdown",
   "id": "6696a775",
   "metadata": {},
   "source": [
    "### Reshaping"
   ]
  },
  {
   "cell_type": "code",
   "execution_count": 13,
   "id": "1c4eac5c",
   "metadata": {},
   "outputs": [
    {
     "data": {
      "text/plain": [
       "array([1, 2, 3, 6, 7, 8, 1, 3, 4, 7, 0, 5])"
      ]
     },
     "execution_count": 13,
     "metadata": {},
     "output_type": "execute_result"
    }
   ],
   "source": [
    "arr1 = np.array([1,2,3,6,7,8,1,3,4,7,0,5])\n",
    "arr1"
   ]
  },
  {
   "cell_type": "code",
   "execution_count": 7,
   "id": "99a648ce",
   "metadata": {},
   "outputs": [
    {
     "data": {
      "text/plain": [
       "(12,)"
      ]
     },
     "execution_count": 7,
     "metadata": {},
     "output_type": "execute_result"
    }
   ],
   "source": [
    "arr1.shape"
   ]
  },
  {
   "cell_type": "code",
   "execution_count": 9,
   "id": "dd595612",
   "metadata": {},
   "outputs": [
    {
     "name": "stdout",
     "output_type": "stream",
     "text": [
      "[[1 2 3 6]\n",
      " [7 8 1 3]\n",
      " [4 7 0 5]]\n"
     ]
    }
   ],
   "source": [
    "arr1_3d = arr1.reshape(3,4)\n",
    "print(arr1_3d)"
   ]
  },
  {
   "cell_type": "code",
   "execution_count": 11,
   "id": "5b6c8b9f",
   "metadata": {},
   "outputs": [
    {
     "name": "stdout",
     "output_type": "stream",
     "text": [
      "[[[1 2]\n",
      "  [3 6]\n",
      "  [7 8]]\n",
      "\n",
      " [[1 3]\n",
      "  [4 7]\n",
      "  [0 5]]]\n"
     ]
    }
   ],
   "source": [
    "arr2 = arr1.reshape(2,3,2)\n",
    "print(arr2)"
   ]
  },
  {
   "cell_type": "markdown",
   "id": "515013b0",
   "metadata": {},
   "source": [
    "### Slicing"
   ]
  },
  {
   "cell_type": "code",
   "execution_count": 14,
   "id": "aa32cba1",
   "metadata": {},
   "outputs": [
    {
     "data": {
      "text/plain": [
       "array([7, 0])"
      ]
     },
     "execution_count": 14,
     "metadata": {},
     "output_type": "execute_result"
    }
   ],
   "source": [
    "# for slicing use 'iloc'\n",
    "\n",
    "arr1 = np.array([1,2,3,6,7,8,1,3,4,7,0,5])\n",
    "arr1[-3:-1]"
   ]
  },
  {
   "cell_type": "code",
   "execution_count": 15,
   "id": "7dad0cec",
   "metadata": {},
   "outputs": [
    {
     "data": {
      "text/plain": [
       "array([3, 4, 7, 0, 5])"
      ]
     },
     "execution_count": 15,
     "metadata": {},
     "output_type": "execute_result"
    }
   ],
   "source": [
    "arr1[-5:]"
   ]
  },
  {
   "cell_type": "code",
   "execution_count": 16,
   "id": "0459c929",
   "metadata": {},
   "outputs": [
    {
     "data": {
      "text/plain": [
       "array([1, 6, 1, 7])"
      ]
     },
     "execution_count": 16,
     "metadata": {},
     "output_type": "execute_result"
    }
   ],
   "source": [
    "arr1[::3]"
   ]
  },
  {
   "cell_type": "code",
   "execution_count": 18,
   "id": "02c8083e",
   "metadata": {},
   "outputs": [
    {
     "name": "stdout",
     "output_type": "stream",
     "text": [
      "[[1 2 3 6]\n",
      " [7 8 1 3]\n",
      " [4 7 0 5]]\n"
     ]
    }
   ],
   "source": [
    "res = arr1.reshape(3,4)\n",
    "print(res)"
   ]
  },
  {
   "cell_type": "code",
   "execution_count": 19,
   "id": "94959b92",
   "metadata": {},
   "outputs": [
    {
     "data": {
      "text/plain": [
       "array([[1, 2, 3, 6],\n",
       "       [7, 8, 1, 3]])"
      ]
     },
     "execution_count": 19,
     "metadata": {},
     "output_type": "execute_result"
    }
   ],
   "source": [
    "res[0:2]"
   ]
  },
  {
   "cell_type": "code",
   "execution_count": 20,
   "id": "fc6ba30a",
   "metadata": {},
   "outputs": [
    {
     "data": {
      "text/plain": [
       "array([1, 2])"
      ]
     },
     "execution_count": 20,
     "metadata": {},
     "output_type": "execute_result"
    }
   ],
   "source": [
    "res[0, : 2]   # from 1st row get 2 elmts"
   ]
  },
  {
   "cell_type": "code",
   "execution_count": 21,
   "id": "d1f1109b",
   "metadata": {},
   "outputs": [
    {
     "data": {
      "text/plain": [
       "array([[1, 2, 3],\n",
       "       [7, 8, 1]])"
      ]
     },
     "execution_count": 21,
     "metadata": {},
     "output_type": "execute_result"
    }
   ],
   "source": [
    "res[:2, :3]   # from 1st 2 rows get 3 elmts"
   ]
  },
  {
   "cell_type": "code",
   "execution_count": 22,
   "id": "a25a733f",
   "metadata": {},
   "outputs": [
    {
     "data": {
      "text/plain": [
       "array([[1, 3],\n",
       "       [0, 5]])"
      ]
     },
     "execution_count": 22,
     "metadata": {},
     "output_type": "execute_result"
    }
   ],
   "source": [
    "res[1:3, 2:5]"
   ]
  },
  {
   "cell_type": "code",
   "execution_count": null,
   "id": "eca1811b",
   "metadata": {},
   "outputs": [],
   "source": [
    "'''machine looks at img in form of pixels in grid format\n",
    "\n",
    "-ve pixel values converted to +ve using 'abs' func\n",
    "\n",
    "in a range of colors, flatten the pixels, to only make the machine focus on that range'''"
   ]
  },
  {
   "cell_type": "markdown",
   "id": "57ae0998",
   "metadata": {},
   "source": [
    "### STATISTICS"
   ]
  },
  {
   "cell_type": "markdown",
   "id": "b1b1fc72",
   "metadata": {},
   "source": [
    "### generate random arrays"
   ]
  },
  {
   "cell_type": "code",
   "execution_count": null,
   "id": "49d9f128",
   "metadata": {},
   "outputs": [],
   "source": [
    "'''Statistics purely abt distribution ,\n",
    "Normal Distri (the graph has equal change in slopes on both sides of median of grpah)\n",
    "Binomial Distri\n",
    "Poisson Distri \n",
    "\n",
    "Skewness & Kurtosis'''"
   ]
  },
  {
   "cell_type": "code",
   "execution_count": 23,
   "id": "2832e90e",
   "metadata": {},
   "outputs": [],
   "source": [
    "from numpy import random"
   ]
  },
  {
   "cell_type": "code",
   "execution_count": 25,
   "id": "5cfd66d1",
   "metadata": {},
   "outputs": [
    {
     "data": {
      "text/plain": [
       "array([70, 75, 82, 83, 12, 12, 81, 79,  2, 78,  7,  8,  0, 60, 59,  6,  8,\n",
       "       77, 79, 25, 38, 14, 62, 57, 17, 23, 92, 41,  7, 16])"
      ]
     },
     "execution_count": 25,
     "metadata": {},
     "output_type": "execute_result"
    }
   ],
   "source": [
    "arr3 = random.randint(100, size=(30))\n",
    "arr3"
   ]
  },
  {
   "cell_type": "code",
   "execution_count": 27,
   "id": "591aef64",
   "metadata": {},
   "outputs": [
    {
     "data": {
      "text/plain": [
       "array([[0.2104612 , 0.65128172, 0.37513911, 0.42367849],\n",
       "       [0.76051874, 0.16704385, 0.26389524, 0.09219912],\n",
       "       [0.17808658, 0.4726413 , 0.56444837, 0.82531665]])"
      ]
     },
     "execution_count": 27,
     "metadata": {},
     "output_type": "execute_result"
    }
   ],
   "source": [
    "# when int is not specified \n",
    "\n",
    "arr4 = random.rand(3,4)\n",
    "arr4"
   ]
  },
  {
   "cell_type": "markdown",
   "id": "8966c33c",
   "metadata": {},
   "source": [
    "#### normal distribution"
   ]
  },
  {
   "cell_type": "code",
   "execution_count": 29,
   "id": "a380f7aa",
   "metadata": {},
   "outputs": [
    {
     "data": {
      "text/plain": [
       "array([[ 0.21009231,  1.01903483, -0.92474551, -1.15113483],\n",
       "       [-0.85656834, -0.81453417,  1.46282582, -0.43145065],\n",
       "       [ 0.13165318,  0.26323492,  1.29527439,  0.95560794]])"
      ]
     },
     "execution_count": 29,
     "metadata": {},
     "output_type": "execute_result"
    }
   ],
   "source": [
    "'''normal distribution array'''\n",
    "\n",
    "# ranges from -1 to +1\n",
    "\n",
    "arr_norm = random.normal(size=(3,4))\n",
    "arr_norm"
   ]
  },
  {
   "cell_type": "code",
   "execution_count": 31,
   "id": "2a08138c",
   "metadata": {},
   "outputs": [
    {
     "name": "stderr",
     "output_type": "stream",
     "text": [
      "C:\\Users\\Dell\\anaconda3\\lib\\site-packages\\scipy\\__init__.py:173: UserWarning: A NumPy version >=1.19.5 and <1.27.0 is required for this version of SciPy (detected version 1.19.3)\n",
      "  warnings.warn(f\"A NumPy version >={np_minversion} and <{np_maxversion}\"\n"
     ]
    }
   ],
   "source": [
    "import seaborn as sns\n",
    "import matplotlib.pyplot as plt"
   ]
  },
  {
   "cell_type": "code",
   "execution_count": 32,
   "id": "2e09aa75",
   "metadata": {},
   "outputs": [
    {
     "name": "stderr",
     "output_type": "stream",
     "text": [
      "C:\\Users\\Dell\\anaconda3\\lib\\site-packages\\seaborn\\distributions.py:2619: FutureWarning: `distplot` is a deprecated function and will be removed in a future version. Please adapt your code to use either `displot` (a figure-level function with similar flexibility) or `kdeplot` (an axes-level function for kernel density plots).\n",
      "  warnings.warn(msg, FutureWarning)\n"
     ]
    },
    {
     "data": {
      "text/plain": [
       "<AxesSubplot:ylabel='Density'>"
      ]
     },
     "execution_count": 32,
     "metadata": {},
     "output_type": "execute_result"
    },
    {
     "data": {
      "image/png": "[encoded data removed]",
      "text/plain": [
       "<Figure size 432x288 with 1 Axes>"
      ]
     },
     "metadata": {
      "needs_background": "light"
     },
     "output_type": "display_data"
    }
   ],
   "source": [
    "sns.distplot(arr_norm, hist = False)"
   ]
  },
  {
   "cell_type": "markdown",
   "id": "bfd26314",
   "metadata": {},
   "source": [
    "#### binomial distribution"
   ]
  },
  {
   "cell_type": "code",
   "execution_count": 33,
   "id": "575dc6e6",
   "metadata": {},
   "outputs": [
    {
     "data": {
      "text/plain": [
       "array([ 9,  6,  7, 10,  7,  7,  6,  8,  4,  9,  9,  8,  9,  8, 10,  7,  9,\n",
       "        5,  8,  8,  8,  6, 10,  9,  7,  9,  8,  9,  9,  9,  8,  7,  5,  7,\n",
       "        6,  8,  9,  9,  7,  9,  8,  9,  9,  9,  8,  7, 10,  7,  6,  9,  9,\n",
       "        7,  9,  9,  9,  9,  9,  6,  8,  5,  6,  8,  8,  8,  7,  9,  6,  6,\n",
       "        7,  9,  9,  7,  6,  8,  7,  7,  9,  4,  7,  7,  9,  5,  8,  9,  9,\n",
       "        7,  8,  7,  8,  5,  9,  7,  8,  9, 10,  8,  6,  8,  8,  6,  6,  7,\n",
       "        5,  8,  9,  7,  7,  7,  8,  8,  6, 10,  7,  8,  8,  9,  8,  9,  6,\n",
       "        8,  5,  8,  8,  9, 10,  7, 10,  7,  6, 10,  7,  9,  6,  7,  7,  6,\n",
       "        8,  7,  8,  8,  9,  9,  7,  6,  9,  6,  9,  8, 10,  7,  8,  8,  7,\n",
       "        8,  8,  9,  9,  9,  7,  7, 10,  8, 10,  7,  8,  7,  7,  7,  6,  8,\n",
       "        9,  8,  8,  7,  9,  8,  8,  8,  7,  8,  6, 10,  7,  9,  8,  8,  7,\n",
       "        9,  9, 10,  6,  8,  8,  9,  9, 10, 10,  7,  7, 10])"
      ]
     },
     "execution_count": 33,
     "metadata": {},
     "output_type": "execute_result"
    }
   ],
   "source": [
    "arr_binomial = random.binomial(n = 10, p = 0.78, size = 200)\n",
    "arr_binomial"
   ]
  },
  {
   "cell_type": "code",
   "execution_count": 36,
   "id": "edacabcd",
   "metadata": {},
   "outputs": [
    {
     "data": {
      "text/plain": [
       "<AxesSubplot:ylabel='Density'>"
      ]
     },
     "execution_count": 36,
     "metadata": {},
     "output_type": "execute_result"
    },
    {
     "data": {
      "image/png": "[encoded data removed]",
      "text/plain": [
       "<Figure size 432x288 with 1 Axes>"
      ]
     },
     "metadata": {
      "needs_background": "light"
     },
     "output_type": "display_data"
    }
   ],
   "source": [
    "sns.distplot(arr_binomial, hist = True)"
   ]
  },
  {
   "cell_type": "code",
   "execution_count": 37,
   "id": "d27ab0bc",
   "metadata": {},
   "outputs": [
    {
     "name": "stderr",
     "output_type": "stream",
     "text": [
      "C:\\Users\\Dell\\anaconda3\\lib\\site-packages\\seaborn\\distributions.py:2619: FutureWarning: `distplot` is a deprecated function and will be removed in a future version. Please adapt your code to use either `displot` (a figure-level function with similar flexibility) or `histplot` (an axes-level function for histograms).\n",
      "  warnings.warn(msg, FutureWarning)\n"
     ]
    },
    {
     "data": {
      "text/plain": [
       "<AxesSubplot:>"
      ]
     },
     "execution_count": 37,
     "metadata": {},
     "output_type": "execute_result"
    },
    {
     "data": {
      "image/png": "[encoded data removed]",
      "text/plain": [
       "<Figure size 432x288 with 1 Axes>"
      ]
     },
     "metadata": {
      "needs_background": "light"
     },
     "output_type": "display_data"
    }
   ],
   "source": [
    "sns.distplot(arr_binomial, hist = True, kde = False)     # no graphical line"
   ]
  },
  {
   "cell_type": "markdown",
   "id": "710f8b01",
   "metadata": {},
   "source": [
    "#### poisson distribution"
   ]
  },
  {
   "cell_type": "code",
   "execution_count": 38,
   "id": "c2b5ed86",
   "metadata": {},
   "outputs": [
    {
     "data": {
      "text/plain": [
       "<AxesSubplot:ylabel='Density'>"
      ]
     },
     "execution_count": 38,
     "metadata": {},
     "output_type": "execute_result"
    },
    {
     "data": {
      "image/png": "[encoded data removed]",
      "text/plain": [
       "<Figure size 432x288 with 1 Axes>"
      ]
     },
     "metadata": {
      "needs_background": "light"
     },
     "output_type": "display_data"
    }
   ],
   "source": [
    "arr_poisson = random.poisson(lam = 2, size=200)\n",
    "sns.distplot(arr_poisson, hist = True) \n",
    "\n",
    "''' right-skewed '''"
   ]
  },
  {
   "cell_type": "markdown",
   "id": "b55dc5d4",
   "metadata": {},
   "source": [
    "### Chi-Square Test"
   ]
  },
  {
   "cell_type": "code",
   "execution_count": null,
   "id": "d705caf3",
   "metadata": {},
   "outputs": [],
   "source": [
    "Hypothesis Test \n",
    "\n",
    "assume smthg, \n",
    "create Null Hypo(Ho) , it can be either accepted or rejected\n",
    "\n",
    "df (degree of freedom) = how close u want to be to Null Hypo"
   ]
  },
  {
   "cell_type": "code",
   "execution_count": 39,
   "id": "28f6107e",
   "metadata": {},
   "outputs": [
    {
     "name": "stderr",
     "output_type": "stream",
     "text": [
      "C:\\Users\\Dell\\anaconda3\\lib\\site-packages\\seaborn\\distributions.py:2619: FutureWarning: `distplot` is a deprecated function and will be removed in a future version. Please adapt your code to use either `displot` (a figure-level function with similar flexibility) or `histplot` (an axes-level function for histograms).\n",
      "  warnings.warn(msg, FutureWarning)\n"
     ]
    },
    {
     "data": {
      "text/plain": [
       "<AxesSubplot:ylabel='Density'>"
      ]
     },
     "execution_count": 39,
     "metadata": {},
     "output_type": "execute_result"
    },
    {
     "data": {
      "image/png": "[encoded data removed]",
      "text/plain": [
       "<Figure size 432x288 with 1 Axes>"
      ]
     },
     "metadata": {
      "needs_background": "light"
     },
     "output_type": "display_data"
    }
   ],
   "source": [
    "chi_sq_arr = random.chisquare(df = 2, size = 200)\n",
    "\n",
    "sns.distplot(chi_sq_arr, hist = True) "
   ]
  },
  {
   "cell_type": "code",
   "execution_count": null,
   "id": "738d86ff",
   "metadata": {},
   "outputs": [],
   "source": [
    "'''\n",
    "SKEWNESS = how symmetric the data is ,i.e, Symmetry\n",
    "            Right-skewed : graph tail leaned towards right (+ve)\n",
    "            Left-skewed : graph tail leaned towards left   (-ve)   (mean < median < mode) (mode = peak)\n",
    "                \n",
    "the order in which Mean, Mode, Median lie determines the Skewness of the graph\n",
    "\n",
    "\n",
    "KURTOSIS = the volume of data majorly lies in what part of the graph, that is actually symetrical,\n",
    "            Flatness / Shape \n",
    "\n",
    "the Value on y-axis is taken & x-axis is the Index\n",
    "as Value increases, the kurtosis varies\n",
    "\n",
    "Kurtosis = 3 (Mesokurtic) for normal distri\n",
    "k > 3 (Leptokurtic) , \n",
    "k < 3 (Platykurtic)\n",
    "\n",
    "'''"
   ]
  },
  {
   "cell_type": "code",
   "execution_count": 40,
   "id": "14ab86af",
   "metadata": {},
   "outputs": [],
   "source": [
    "import scipy \n",
    "from scipy.stats import skew, kurtosis"
   ]
  },
  {
   "cell_type": "code",
   "execution_count": 41,
   "id": "c718d0d0",
   "metadata": {},
   "outputs": [
    {
     "data": {
      "text/plain": [
       "1.9025440227826496"
      ]
     },
     "execution_count": 41,
     "metadata": {},
     "output_type": "execute_result"
    }
   ],
   "source": [
    "skewness = skew(chi_sq_arr, axis = 0)\n",
    "skewness"
   ]
  },
  {
   "cell_type": "code",
   "execution_count": 43,
   "id": "2bf78981",
   "metadata": {},
   "outputs": [
    {
     "data": {
      "text/plain": [
       "4.036432229086162"
      ]
     },
     "execution_count": 43,
     "metadata": {},
     "output_type": "execute_result"
    }
   ],
   "source": [
    "kurtosis1 = kurtosis(chi_sq_arr)\n",
    "kurtosis1"
   ]
  },
  {
   "cell_type": "code",
   "execution_count": 45,
   "id": "b7144321",
   "metadata": {},
   "outputs": [
    {
     "data": {
      "text/plain": [
       "-0.1858659265358177"
      ]
     },
     "execution_count": 45,
     "metadata": {},
     "output_type": "execute_result"
    }
   ],
   "source": [
    "normal_arr = random.normal(size = 200)\n",
    "norm_skewness = skew(normal_arr)\n",
    "norm_skewness"
   ]
  },
  {
   "cell_type": "code",
   "execution_count": 47,
   "id": "8f3eae73",
   "metadata": {
    "scrolled": false
   },
   "outputs": [
    {
     "name": "stderr",
     "output_type": "stream",
     "text": [
      "C:\\Users\\Dell\\anaconda3\\lib\\site-packages\\seaborn\\distributions.py:2619: FutureWarning: `distplot` is a deprecated function and will be removed in a future version. Please adapt your code to use either `displot` (a figure-level function with similar flexibility) or `histplot` (an axes-level function for histograms).\n",
      "  warnings.warn(msg, FutureWarning)\n"
     ]
    },
    {
     "data": {
      "text/plain": [
       "<AxesSubplot:ylabel='Density'>"
      ]
     },
     "execution_count": 47,
     "metadata": {},
     "output_type": "execute_result"
    },
    {
     "data": {
      "image/png": "[encoded data removed]",
      "text/plain": [
       "<Figure size 432x288 with 1 Axes>"
      ]
     },
     "metadata": {
      "needs_background": "light"
     },
     "output_type": "display_data"
    }
   ],
   "source": [
    "sns.distplot(normal_arr, hist = True)"
   ]
  },
  {
   "cell_type": "code",
   "execution_count": 48,
   "id": "70f15984",
   "metadata": {},
   "outputs": [
    {
     "data": {
      "text/plain": [
       "0.5805493195966958"
      ]
     },
     "execution_count": 48,
     "metadata": {},
     "output_type": "execute_result"
    }
   ],
   "source": [
    "norm_kurtosis = kurtosis(normal_arr)\n",
    "norm_kurtosis"
   ]
  },
  {
   "cell_type": "code",
   "execution_count": null,
   "id": "1bd8dadf",
   "metadata": {},
   "outputs": [],
   "source": [
    "'''Sliding Window View = keeping a small image goes on the larger image sliding thru each row & coln \n",
    "covering all the pixels & possible combinations\n",
    "if the sliding window gets a match, an edge gets surrounded at that place'''"
   ]
  }
 ],
 "metadata": {
  "kernelspec": {
   "display_name": "Python 3 (ipykernel)",
   "language": "python",
   "name": "python3"
  },
  "language_info": {
   "codemirror_mode": {
    "name": "ipython",
    "version": 3
   },
   "file_extension": ".py",
   "mimetype": "text/x-python",
   "name": "python",
   "nbconvert_exporter": "python",
   "pygments_lexer": "ipython3",
   "version": "3.9.7"
  }
 },
 "nbformat": 4,
 "nbformat_minor": 5
}
